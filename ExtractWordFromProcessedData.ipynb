{
 "cells": [
  {
   "cell_type": "code",
   "execution_count": 2,
   "metadata": {},
   "outputs": [],
   "source": [
    "import json\n",
    "import os\n",
    "import pandas as pd\n",
    "import numpy as np"
   ]
  },
  {
   "cell_type": "code",
   "execution_count": 3,
   "metadata": {},
   "outputs": [],
   "source": [
    "path = os.getcwd()\n",
    "path += '/ProcessedData'\n",
    "FileNames = []\n",
    "for filename in os.listdir(path):\n",
    "    FileNames.append(filename)"
   ]
  },
  {
   "cell_type": "code",
   "execution_count": 7,
   "metadata": {},
   "outputs": [],
   "source": [
    "data = []\n",
    "for file in FileNames:\n",
    "    with open(path + \"/\" + file, 'r') as f:\n",
    "        for line in f.readlines():\n",
    "            data.append(line)"
   ]
  },
  {
   "cell_type": "code",
   "execution_count": 9,
   "metadata": {},
   "outputs": [],
   "source": [
    "tweet_words = []\n",
    "for line in data:\n",
    "    twetwords = line.split(\" \")\n",
    "    for word in twetwords:\n",
    "            if '#' in word:\n",
    "                tweet_words.append(word[1:])\n",
    "            else:\n",
    "                tweet_words.append(word)"
   ]
  },
  {
   "cell_type": "code",
   "execution_count": 10,
   "metadata": {},
   "outputs": [],
   "source": [
    "word_files = ['FullDict/positive.txt','FullDict/negative.txt']\n",
    "words = {}\n",
    "for file in word_files:\n",
    "    with open(file, 'r') as f:\n",
    "        dict_name = file.split('.')[0].split(\"/\")\n",
    "        word = []\n",
    "        for line in f.readlines():\n",
    "            line = line.strip()\n",
    "            if '*' in line:\n",
    "                word.append(line[:-1])\n",
    "            else:\n",
    "                word.append(line)\n",
    "        words[dict_name[1]] = word"
   ]
  },
  {
   "cell_type": "code",
   "execution_count": 12,
   "metadata": {},
   "outputs": [],
   "source": [
    "Positive, Negative = [], []\n",
    "for word in tweet_words:\n",
    "    for typ in words:\n",
    "        word = word.upper()\n",
    "        if word in words[typ]:\n",
    "            if typ == 'positive':\n",
    "                Positive.append(word)\n",
    "            else:\n",
    "                Negative.append(word)"
   ]
  },
  {
   "cell_type": "code",
   "execution_count": 13,
   "metadata": {},
   "outputs": [],
   "source": [
    "Negative = np.unique(Negative)"
   ]
  },
  {
   "cell_type": "code",
   "execution_count": 14,
   "metadata": {},
   "outputs": [],
   "source": [
    "Positive = np.unique(Positive)"
   ]
  },
  {
   "cell_type": "code",
   "execution_count": 17,
   "metadata": {},
   "outputs": [],
   "source": [
    "with open('Dictionary/positive.txt', 'w') as ptr:\n",
    "    for item in Positive:\n",
    "        ptr.write(\"%s\\n\" %item)\n",
    "with open('Dictionary/negative.txt', 'w') as ptr:\n",
    "    for item in Negative:\n",
    "        ptr.write(\"%s\\n\" %item)"
   ]
  },
  {
   "cell_type": "code",
   "execution_count": null,
   "metadata": {},
   "outputs": [],
   "source": []
  }
 ],
 "metadata": {
  "kernelspec": {
   "display_name": "Python 3",
   "language": "python",
   "name": "python3"
  },
  "language_info": {
   "codemirror_mode": {
    "name": "ipython",
    "version": 3
   },
   "file_extension": ".py",
   "mimetype": "text/x-python",
   "name": "python",
   "nbconvert_exporter": "python",
   "pygments_lexer": "ipython3",
   "version": "3.6.7"
  }
 },
 "nbformat": 4,
 "nbformat_minor": 2
}
